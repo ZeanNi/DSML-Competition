{
 "cells": [
  {
   "cell_type": "markdown",
   "source": [
    "# Libs"
   ],
   "metadata": {
    "collapsed": false
   },
   "id": "750a7ae2f4028a53"
  },
  {
   "cell_type": "code",
   "execution_count": 1,
   "id": "initial_id",
   "metadata": {
    "collapsed": true,
    "ExecuteTime": {
     "end_time": "2024-01-25T16:18:36.387596Z",
     "start_time": "2024-01-25T16:18:36.250514Z"
    }
   },
   "outputs": [],
   "source": [
    "from pathlib import Path\n",
    "import os\n",
    "import pandas as pd\n",
    "import numpy as np\n",
    "import seaborn as sns\n",
    "from sklearn.utils.class_weight import compute_class_weight\n",
    "from catboost import CatBoostClassifier\n",
    "\n",
    "ROOT_DIR = Path(os.getcwd())\n",
    "TRAIN_PATH = ROOT_DIR / \"data/train.csv\"\n",
    "TEST_PATH = ROOT_DIR / \"data/test.csv\"\n",
    "SAMPLE_PATH = ROOT_DIR / \"data/sample_submission.csv\""
   ]
  },
  {
   "cell_type": "markdown",
   "source": [
    "# Load"
   ],
   "metadata": {
    "collapsed": false
   },
   "id": "d09f52a53c9029b1"
  },
  {
   "cell_type": "code",
   "execution_count": 30,
   "outputs": [],
   "source": [
    "train = pd.read_csv(TRAIN_PATH)\n",
    "\n",
    "test = pd.read_csv(TEST_PATH)"
   ],
   "metadata": {
    "collapsed": false,
    "ExecuteTime": {
     "end_time": "2024-01-25T16:39:43.077294Z",
     "start_time": "2024-01-25T16:39:42.798128Z"
    }
   },
   "id": "5852e871a309b162"
  },
  {
   "cell_type": "markdown",
   "source": [
    "# EDA"
   ],
   "metadata": {
    "collapsed": false
   },
   "id": "2e2cbde51ac252dd"
  },
  {
   "cell_type": "code",
   "execution_count": 3,
   "outputs": [
    {
     "name": "stdout",
     "output_type": "stream",
     "text": [
      "(165034, 14)\n",
      "Index(['id', 'CustomerId', 'Surname', 'CreditScore', 'Geography', 'Gender',\n",
      "       'Age', 'Tenure', 'Balance', 'NumOfProducts', 'HasCrCard',\n",
      "       'IsActiveMember', 'EstimatedSalary', 'Exited'],\n",
      "      dtype='object')\n"
     ]
    }
   ],
   "source": [
    "print(train.shape)\n",
    "print(train.columns)"
   ],
   "metadata": {
    "collapsed": false,
    "ExecuteTime": {
     "end_time": "2024-01-25T16:18:36.712655Z",
     "start_time": "2024-01-25T16:18:36.703469Z"
    }
   },
   "id": "74c04c6c889c3d55"
  },
  {
   "cell_type": "code",
   "execution_count": 4,
   "outputs": [
    {
     "name": "stdout",
     "output_type": "stream",
     "text": [
      "<class 'pandas.core.frame.DataFrame'>\n",
      "RangeIndex: 165034 entries, 0 to 165033\n",
      "Data columns (total 14 columns):\n",
      " #   Column           Non-Null Count   Dtype  \n",
      "---  ------           --------------   -----  \n",
      " 0   id               165034 non-null  int64  \n",
      " 1   CustomerId       165034 non-null  int64  \n",
      " 2   Surname          165034 non-null  object \n",
      " 3   CreditScore      165034 non-null  int64  \n",
      " 4   Geography        165034 non-null  object \n",
      " 5   Gender           165034 non-null  object \n",
      " 6   Age              165034 non-null  float64\n",
      " 7   Tenure           165034 non-null  int64  \n",
      " 8   Balance          165034 non-null  float64\n",
      " 9   NumOfProducts    165034 non-null  int64  \n",
      " 10  HasCrCard        165034 non-null  float64\n",
      " 11  IsActiveMember   165034 non-null  float64\n",
      " 12  EstimatedSalary  165034 non-null  float64\n",
      " 13  Exited           165034 non-null  int64  \n",
      "dtypes: float64(5), int64(6), object(3)\n",
      "memory usage: 17.6+ MB\n"
     ]
    }
   ],
   "source": [
    "train.info()"
   ],
   "metadata": {
    "collapsed": false,
    "ExecuteTime": {
     "end_time": "2024-01-25T16:18:36.762098Z",
     "start_time": "2024-01-25T16:18:36.710260Z"
    }
   },
   "id": "ce01c2a0b3bc7be4"
  },
  {
   "cell_type": "code",
   "execution_count": 5,
   "outputs": [
    {
     "data": {
      "text/plain": "   id  CustomerId         Surname  CreditScore Geography Gender   Age  Tenure  \\\n0   0    15674932  Okwudilichukwu          668    France   Male  33.0       3   \n1   1    15749177   Okwudiliolisa          627    France   Male  33.0       1   \n2   2    15694510           Hsueh          678    France   Male  40.0      10   \n3   3    15741417             Kao          581    France   Male  34.0       2   \n4   4    15766172       Chiemenam          716     Spain   Male  33.0       5   \n\n     Balance  NumOfProducts  HasCrCard  IsActiveMember  EstimatedSalary  \\\n0       0.00              2        1.0             0.0        181449.97   \n1       0.00              2        1.0             1.0         49503.50   \n2       0.00              2        1.0             0.0        184866.69   \n3  148882.54              1        1.0             1.0         84560.88   \n4       0.00              2        1.0             1.0         15068.83   \n\n   Exited  \n0       0  \n1       0  \n2       0  \n3       0  \n4       0  ",
      "text/html": "<div>\n<style scoped>\n    .dataframe tbody tr th:only-of-type {\n        vertical-align: middle;\n    }\n\n    .dataframe tbody tr th {\n        vertical-align: top;\n    }\n\n    .dataframe thead th {\n        text-align: right;\n    }\n</style>\n<table border=\"1\" class=\"dataframe\">\n  <thead>\n    <tr style=\"text-align: right;\">\n      <th></th>\n      <th>id</th>\n      <th>CustomerId</th>\n      <th>Surname</th>\n      <th>CreditScore</th>\n      <th>Geography</th>\n      <th>Gender</th>\n      <th>Age</th>\n      <th>Tenure</th>\n      <th>Balance</th>\n      <th>NumOfProducts</th>\n      <th>HasCrCard</th>\n      <th>IsActiveMember</th>\n      <th>EstimatedSalary</th>\n      <th>Exited</th>\n    </tr>\n  </thead>\n  <tbody>\n    <tr>\n      <th>0</th>\n      <td>0</td>\n      <td>15674932</td>\n      <td>Okwudilichukwu</td>\n      <td>668</td>\n      <td>France</td>\n      <td>Male</td>\n      <td>33.0</td>\n      <td>3</td>\n      <td>0.00</td>\n      <td>2</td>\n      <td>1.0</td>\n      <td>0.0</td>\n      <td>181449.97</td>\n      <td>0</td>\n    </tr>\n    <tr>\n      <th>1</th>\n      <td>1</td>\n      <td>15749177</td>\n      <td>Okwudiliolisa</td>\n      <td>627</td>\n      <td>France</td>\n      <td>Male</td>\n      <td>33.0</td>\n      <td>1</td>\n      <td>0.00</td>\n      <td>2</td>\n      <td>1.0</td>\n      <td>1.0</td>\n      <td>49503.50</td>\n      <td>0</td>\n    </tr>\n    <tr>\n      <th>2</th>\n      <td>2</td>\n      <td>15694510</td>\n      <td>Hsueh</td>\n      <td>678</td>\n      <td>France</td>\n      <td>Male</td>\n      <td>40.0</td>\n      <td>10</td>\n      <td>0.00</td>\n      <td>2</td>\n      <td>1.0</td>\n      <td>0.0</td>\n      <td>184866.69</td>\n      <td>0</td>\n    </tr>\n    <tr>\n      <th>3</th>\n      <td>3</td>\n      <td>15741417</td>\n      <td>Kao</td>\n      <td>581</td>\n      <td>France</td>\n      <td>Male</td>\n      <td>34.0</td>\n      <td>2</td>\n      <td>148882.54</td>\n      <td>1</td>\n      <td>1.0</td>\n      <td>1.0</td>\n      <td>84560.88</td>\n      <td>0</td>\n    </tr>\n    <tr>\n      <th>4</th>\n      <td>4</td>\n      <td>15766172</td>\n      <td>Chiemenam</td>\n      <td>716</td>\n      <td>Spain</td>\n      <td>Male</td>\n      <td>33.0</td>\n      <td>5</td>\n      <td>0.00</td>\n      <td>2</td>\n      <td>1.0</td>\n      <td>1.0</td>\n      <td>15068.83</td>\n      <td>0</td>\n    </tr>\n  </tbody>\n</table>\n</div>"
     },
     "execution_count": 5,
     "metadata": {},
     "output_type": "execute_result"
    }
   ],
   "source": [
    "train.head()"
   ],
   "metadata": {
    "collapsed": false,
    "ExecuteTime": {
     "end_time": "2024-01-25T16:18:36.779825Z",
     "start_time": "2024-01-25T16:18:36.755400Z"
    }
   },
   "id": "56ae9687bd78cdef"
  },
  {
   "cell_type": "code",
   "execution_count": 6,
   "outputs": [
    {
     "data": {
      "text/plain": "id                 0\nCustomerId         0\nSurname            0\nCreditScore        0\nGeography          0\nGender             0\nAge                0\nTenure             0\nBalance            0\nNumOfProducts      0\nHasCrCard          0\nIsActiveMember     0\nEstimatedSalary    0\nExited             0\ndtype: int64"
     },
     "execution_count": 6,
     "metadata": {},
     "output_type": "execute_result"
    }
   ],
   "source": [
    "train.isnull().sum()"
   ],
   "metadata": {
    "collapsed": false,
    "ExecuteTime": {
     "end_time": "2024-01-25T16:18:36.814456Z",
     "start_time": "2024-01-25T16:18:36.769975Z"
    }
   },
   "id": "a5a927cbd5f159c8"
  },
  {
   "cell_type": "code",
   "execution_count": 7,
   "outputs": [
    {
     "data": {
      "text/plain": "                id    CustomerId    CreditScore            Age         Tenure  \\\ncount  165034.0000  1.650340e+05  165034.000000  165034.000000  165034.000000   \nmean    82516.5000  1.569201e+07     656.454373      38.125888       5.020353   \nstd     47641.3565  7.139782e+04      80.103340       8.867205       2.806159   \nmin         0.0000  1.556570e+07     350.000000      18.000000       0.000000   \n25%     41258.2500  1.563314e+07     597.000000      32.000000       3.000000   \n50%     82516.5000  1.569017e+07     659.000000      37.000000       5.000000   \n75%    123774.7500  1.575682e+07     710.000000      42.000000       7.000000   \nmax    165033.0000  1.581569e+07     850.000000      92.000000      10.000000   \n\n             Balance  NumOfProducts      HasCrCard  IsActiveMember  \\\ncount  165034.000000  165034.000000  165034.000000   165034.000000   \nmean    55478.086689       1.554455       0.753954        0.497770   \nstd     62817.663278       0.547154       0.430707        0.499997   \nmin         0.000000       1.000000       0.000000        0.000000   \n25%         0.000000       1.000000       1.000000        0.000000   \n50%         0.000000       2.000000       1.000000        0.000000   \n75%    119939.517500       2.000000       1.000000        1.000000   \nmax    250898.090000       4.000000       1.000000        1.000000   \n\n       EstimatedSalary         Exited  \ncount    165034.000000  165034.000000  \nmean     112574.822734       0.211599  \nstd       50292.865585       0.408443  \nmin          11.580000       0.000000  \n25%       74637.570000       0.000000  \n50%      117948.000000       0.000000  \n75%      155152.467500       0.000000  \nmax      199992.480000       1.000000  ",
      "text/html": "<div>\n<style scoped>\n    .dataframe tbody tr th:only-of-type {\n        vertical-align: middle;\n    }\n\n    .dataframe tbody tr th {\n        vertical-align: top;\n    }\n\n    .dataframe thead th {\n        text-align: right;\n    }\n</style>\n<table border=\"1\" class=\"dataframe\">\n  <thead>\n    <tr style=\"text-align: right;\">\n      <th></th>\n      <th>id</th>\n      <th>CustomerId</th>\n      <th>CreditScore</th>\n      <th>Age</th>\n      <th>Tenure</th>\n      <th>Balance</th>\n      <th>NumOfProducts</th>\n      <th>HasCrCard</th>\n      <th>IsActiveMember</th>\n      <th>EstimatedSalary</th>\n      <th>Exited</th>\n    </tr>\n  </thead>\n  <tbody>\n    <tr>\n      <th>count</th>\n      <td>165034.0000</td>\n      <td>1.650340e+05</td>\n      <td>165034.000000</td>\n      <td>165034.000000</td>\n      <td>165034.000000</td>\n      <td>165034.000000</td>\n      <td>165034.000000</td>\n      <td>165034.000000</td>\n      <td>165034.000000</td>\n      <td>165034.000000</td>\n      <td>165034.000000</td>\n    </tr>\n    <tr>\n      <th>mean</th>\n      <td>82516.5000</td>\n      <td>1.569201e+07</td>\n      <td>656.454373</td>\n      <td>38.125888</td>\n      <td>5.020353</td>\n      <td>55478.086689</td>\n      <td>1.554455</td>\n      <td>0.753954</td>\n      <td>0.497770</td>\n      <td>112574.822734</td>\n      <td>0.211599</td>\n    </tr>\n    <tr>\n      <th>std</th>\n      <td>47641.3565</td>\n      <td>7.139782e+04</td>\n      <td>80.103340</td>\n      <td>8.867205</td>\n      <td>2.806159</td>\n      <td>62817.663278</td>\n      <td>0.547154</td>\n      <td>0.430707</td>\n      <td>0.499997</td>\n      <td>50292.865585</td>\n      <td>0.408443</td>\n    </tr>\n    <tr>\n      <th>min</th>\n      <td>0.0000</td>\n      <td>1.556570e+07</td>\n      <td>350.000000</td>\n      <td>18.000000</td>\n      <td>0.000000</td>\n      <td>0.000000</td>\n      <td>1.000000</td>\n      <td>0.000000</td>\n      <td>0.000000</td>\n      <td>11.580000</td>\n      <td>0.000000</td>\n    </tr>\n    <tr>\n      <th>25%</th>\n      <td>41258.2500</td>\n      <td>1.563314e+07</td>\n      <td>597.000000</td>\n      <td>32.000000</td>\n      <td>3.000000</td>\n      <td>0.000000</td>\n      <td>1.000000</td>\n      <td>1.000000</td>\n      <td>0.000000</td>\n      <td>74637.570000</td>\n      <td>0.000000</td>\n    </tr>\n    <tr>\n      <th>50%</th>\n      <td>82516.5000</td>\n      <td>1.569017e+07</td>\n      <td>659.000000</td>\n      <td>37.000000</td>\n      <td>5.000000</td>\n      <td>0.000000</td>\n      <td>2.000000</td>\n      <td>1.000000</td>\n      <td>0.000000</td>\n      <td>117948.000000</td>\n      <td>0.000000</td>\n    </tr>\n    <tr>\n      <th>75%</th>\n      <td>123774.7500</td>\n      <td>1.575682e+07</td>\n      <td>710.000000</td>\n      <td>42.000000</td>\n      <td>7.000000</td>\n      <td>119939.517500</td>\n      <td>2.000000</td>\n      <td>1.000000</td>\n      <td>1.000000</td>\n      <td>155152.467500</td>\n      <td>0.000000</td>\n    </tr>\n    <tr>\n      <th>max</th>\n      <td>165033.0000</td>\n      <td>1.581569e+07</td>\n      <td>850.000000</td>\n      <td>92.000000</td>\n      <td>10.000000</td>\n      <td>250898.090000</td>\n      <td>4.000000</td>\n      <td>1.000000</td>\n      <td>1.000000</td>\n      <td>199992.480000</td>\n      <td>1.000000</td>\n    </tr>\n  </tbody>\n</table>\n</div>"
     },
     "execution_count": 7,
     "metadata": {},
     "output_type": "execute_result"
    }
   ],
   "source": [
    "train.describe()"
   ],
   "metadata": {
    "collapsed": false,
    "ExecuteTime": {
     "end_time": "2024-01-25T16:18:36.890072Z",
     "start_time": "2024-01-25T16:18:36.796256Z"
    }
   },
   "id": "197481efa80fa3af"
  },
  {
   "cell_type": "markdown",
   "source": [
    "# Feature Engineering"
   ],
   "metadata": {
    "collapsed": false
   },
   "id": "596c45b3f4ff6671"
  },
  {
   "cell_type": "code",
   "execution_count": 8,
   "outputs": [],
   "source": [
    "age_gap = [\n",
    "    0, 34, 42, 65, 70, 200\n",
    "]\n",
    "age_labels = [1, 2, 3, 4, 5]\n",
    "train[\"age_group\"] = pd.cut(train['Age'], bins=age_gap, labels=age_labels, right=True)\n",
    "train['age_group'] = pd.factorize(train['age_group'])[0] + 1"
   ],
   "metadata": {
    "collapsed": false,
    "ExecuteTime": {
     "end_time": "2024-01-25T16:18:36.890430Z",
     "start_time": "2024-01-25T16:18:36.867552Z"
    }
   },
   "id": "3845b8e53b6377ec"
  },
  {
   "cell_type": "code",
   "execution_count": 18,
   "outputs": [
    {
     "data": {
      "text/plain": "0         1\n1         1\n2         2\n3         1\n4         1\n         ..\n165029    1\n165030    2\n165031    1\n165032    1\n165033    1\nName: age_group, Length: 165034, dtype: int64"
     },
     "execution_count": 18,
     "metadata": {},
     "output_type": "execute_result"
    }
   ],
   "source": [
    "train['age_group']"
   ],
   "metadata": {
    "collapsed": false,
    "ExecuteTime": {
     "end_time": "2024-01-25T16:26:38.725939Z",
     "start_time": "2024-01-25T16:26:38.640068Z"
    }
   },
   "id": "42282f73a40ae271"
  },
  {
   "cell_type": "code",
   "execution_count": 9,
   "outputs": [
    {
     "data": {
      "text/plain": "   id  CustomerId         Surname  CreditScore Geography Gender   Age  Tenure  \\\n0   0    15674932  Okwudilichukwu          668    France   Male  33.0       3   \n1   1    15749177   Okwudiliolisa          627    France   Male  33.0       1   \n2   2    15694510           Hsueh          678    France   Male  40.0      10   \n3   3    15741417             Kao          581    France   Male  34.0       2   \n4   4    15766172       Chiemenam          716     Spain   Male  33.0       5   \n\n     Balance  NumOfProducts  HasCrCard  IsActiveMember  EstimatedSalary  \\\n0       0.00              2        1.0             0.0        181449.97   \n1       0.00              2        1.0             1.0         49503.50   \n2       0.00              2        1.0             0.0        184866.69   \n3  148882.54              1        1.0             1.0         84560.88   \n4       0.00              2        1.0             1.0         15068.83   \n\n   Exited  age_group  \n0       0          1  \n1       0          1  \n2       0          2  \n3       0          1  \n4       0          1  ",
      "text/html": "<div>\n<style scoped>\n    .dataframe tbody tr th:only-of-type {\n        vertical-align: middle;\n    }\n\n    .dataframe tbody tr th {\n        vertical-align: top;\n    }\n\n    .dataframe thead th {\n        text-align: right;\n    }\n</style>\n<table border=\"1\" class=\"dataframe\">\n  <thead>\n    <tr style=\"text-align: right;\">\n      <th></th>\n      <th>id</th>\n      <th>CustomerId</th>\n      <th>Surname</th>\n      <th>CreditScore</th>\n      <th>Geography</th>\n      <th>Gender</th>\n      <th>Age</th>\n      <th>Tenure</th>\n      <th>Balance</th>\n      <th>NumOfProducts</th>\n      <th>HasCrCard</th>\n      <th>IsActiveMember</th>\n      <th>EstimatedSalary</th>\n      <th>Exited</th>\n      <th>age_group</th>\n    </tr>\n  </thead>\n  <tbody>\n    <tr>\n      <th>0</th>\n      <td>0</td>\n      <td>15674932</td>\n      <td>Okwudilichukwu</td>\n      <td>668</td>\n      <td>France</td>\n      <td>Male</td>\n      <td>33.0</td>\n      <td>3</td>\n      <td>0.00</td>\n      <td>2</td>\n      <td>1.0</td>\n      <td>0.0</td>\n      <td>181449.97</td>\n      <td>0</td>\n      <td>1</td>\n    </tr>\n    <tr>\n      <th>1</th>\n      <td>1</td>\n      <td>15749177</td>\n      <td>Okwudiliolisa</td>\n      <td>627</td>\n      <td>France</td>\n      <td>Male</td>\n      <td>33.0</td>\n      <td>1</td>\n      <td>0.00</td>\n      <td>2</td>\n      <td>1.0</td>\n      <td>1.0</td>\n      <td>49503.50</td>\n      <td>0</td>\n      <td>1</td>\n    </tr>\n    <tr>\n      <th>2</th>\n      <td>2</td>\n      <td>15694510</td>\n      <td>Hsueh</td>\n      <td>678</td>\n      <td>France</td>\n      <td>Male</td>\n      <td>40.0</td>\n      <td>10</td>\n      <td>0.00</td>\n      <td>2</td>\n      <td>1.0</td>\n      <td>0.0</td>\n      <td>184866.69</td>\n      <td>0</td>\n      <td>2</td>\n    </tr>\n    <tr>\n      <th>3</th>\n      <td>3</td>\n      <td>15741417</td>\n      <td>Kao</td>\n      <td>581</td>\n      <td>France</td>\n      <td>Male</td>\n      <td>34.0</td>\n      <td>2</td>\n      <td>148882.54</td>\n      <td>1</td>\n      <td>1.0</td>\n      <td>1.0</td>\n      <td>84560.88</td>\n      <td>0</td>\n      <td>1</td>\n    </tr>\n    <tr>\n      <th>4</th>\n      <td>4</td>\n      <td>15766172</td>\n      <td>Chiemenam</td>\n      <td>716</td>\n      <td>Spain</td>\n      <td>Male</td>\n      <td>33.0</td>\n      <td>5</td>\n      <td>0.00</td>\n      <td>2</td>\n      <td>1.0</td>\n      <td>1.0</td>\n      <td>15068.83</td>\n      <td>0</td>\n      <td>1</td>\n    </tr>\n  </tbody>\n</table>\n</div>"
     },
     "execution_count": 9,
     "metadata": {},
     "output_type": "execute_result"
    }
   ],
   "source": [
    "train.head()"
   ],
   "metadata": {
    "collapsed": false,
    "ExecuteTime": {
     "end_time": "2024-01-25T16:18:36.929146Z",
     "start_time": "2024-01-25T16:18:36.890633Z"
    }
   },
   "id": "52d280b8ff9d06fe"
  },
  {
   "cell_type": "code",
   "execution_count": 10,
   "outputs": [
    {
     "data": {
      "text/plain": "                    count          mean           std          min  \\\nid               165034.0  8.251650e+04  47641.356500         0.00   \nCustomerId       165034.0  1.569201e+07  71397.816791  15565701.00   \nCreditScore      165034.0  6.564544e+02     80.103340       350.00   \nAge              165034.0  3.812589e+01      8.867205        18.00   \nTenure           165034.0  5.020353e+00      2.806159         0.00   \nBalance          165034.0  5.547809e+04  62817.663278         0.00   \nNumOfProducts    165034.0  1.554455e+00      0.547154         1.00   \nHasCrCard        165034.0  7.539537e-01      0.430707         0.00   \nIsActiveMember   165034.0  4.977702e-01      0.499997         0.00   \nEstimatedSalary  165034.0  1.125748e+05  50292.865585        11.58   \nExited           165034.0  2.115988e-01      0.408443         0.00   \nage_group        165034.0  1.896961e+00      0.818878         1.00   \n\n                         25%         50%           75%          max  \nid                  41258.25     82516.5  1.237748e+05    165033.00  \nCustomerId       15633141.00  15690169.0  1.575682e+07  15815690.00  \nCreditScore           597.00       659.0  7.100000e+02       850.00  \nAge                    32.00        37.0  4.200000e+01        92.00  \nTenure                  3.00         5.0  7.000000e+00        10.00  \nBalance                 0.00         0.0  1.199395e+05    250898.09  \nNumOfProducts           1.00         2.0  2.000000e+00         4.00  \nHasCrCard               1.00         1.0  1.000000e+00         1.00  \nIsActiveMember          0.00         0.0  1.000000e+00         1.00  \nEstimatedSalary     74637.57    117948.0  1.551525e+05    199992.48  \nExited                  0.00         0.0  0.000000e+00         1.00  \nage_group               1.00         2.0  2.000000e+00         5.00  ",
      "text/html": "<div>\n<style scoped>\n    .dataframe tbody tr th:only-of-type {\n        vertical-align: middle;\n    }\n\n    .dataframe tbody tr th {\n        vertical-align: top;\n    }\n\n    .dataframe thead th {\n        text-align: right;\n    }\n</style>\n<table border=\"1\" class=\"dataframe\">\n  <thead>\n    <tr style=\"text-align: right;\">\n      <th></th>\n      <th>count</th>\n      <th>mean</th>\n      <th>std</th>\n      <th>min</th>\n      <th>25%</th>\n      <th>50%</th>\n      <th>75%</th>\n      <th>max</th>\n    </tr>\n  </thead>\n  <tbody>\n    <tr>\n      <th>id</th>\n      <td>165034.0</td>\n      <td>8.251650e+04</td>\n      <td>47641.356500</td>\n      <td>0.00</td>\n      <td>41258.25</td>\n      <td>82516.5</td>\n      <td>1.237748e+05</td>\n      <td>165033.00</td>\n    </tr>\n    <tr>\n      <th>CustomerId</th>\n      <td>165034.0</td>\n      <td>1.569201e+07</td>\n      <td>71397.816791</td>\n      <td>15565701.00</td>\n      <td>15633141.00</td>\n      <td>15690169.0</td>\n      <td>1.575682e+07</td>\n      <td>15815690.00</td>\n    </tr>\n    <tr>\n      <th>CreditScore</th>\n      <td>165034.0</td>\n      <td>6.564544e+02</td>\n      <td>80.103340</td>\n      <td>350.00</td>\n      <td>597.00</td>\n      <td>659.0</td>\n      <td>7.100000e+02</td>\n      <td>850.00</td>\n    </tr>\n    <tr>\n      <th>Age</th>\n      <td>165034.0</td>\n      <td>3.812589e+01</td>\n      <td>8.867205</td>\n      <td>18.00</td>\n      <td>32.00</td>\n      <td>37.0</td>\n      <td>4.200000e+01</td>\n      <td>92.00</td>\n    </tr>\n    <tr>\n      <th>Tenure</th>\n      <td>165034.0</td>\n      <td>5.020353e+00</td>\n      <td>2.806159</td>\n      <td>0.00</td>\n      <td>3.00</td>\n      <td>5.0</td>\n      <td>7.000000e+00</td>\n      <td>10.00</td>\n    </tr>\n    <tr>\n      <th>Balance</th>\n      <td>165034.0</td>\n      <td>5.547809e+04</td>\n      <td>62817.663278</td>\n      <td>0.00</td>\n      <td>0.00</td>\n      <td>0.0</td>\n      <td>1.199395e+05</td>\n      <td>250898.09</td>\n    </tr>\n    <tr>\n      <th>NumOfProducts</th>\n      <td>165034.0</td>\n      <td>1.554455e+00</td>\n      <td>0.547154</td>\n      <td>1.00</td>\n      <td>1.00</td>\n      <td>2.0</td>\n      <td>2.000000e+00</td>\n      <td>4.00</td>\n    </tr>\n    <tr>\n      <th>HasCrCard</th>\n      <td>165034.0</td>\n      <td>7.539537e-01</td>\n      <td>0.430707</td>\n      <td>0.00</td>\n      <td>1.00</td>\n      <td>1.0</td>\n      <td>1.000000e+00</td>\n      <td>1.00</td>\n    </tr>\n    <tr>\n      <th>IsActiveMember</th>\n      <td>165034.0</td>\n      <td>4.977702e-01</td>\n      <td>0.499997</td>\n      <td>0.00</td>\n      <td>0.00</td>\n      <td>0.0</td>\n      <td>1.000000e+00</td>\n      <td>1.00</td>\n    </tr>\n    <tr>\n      <th>EstimatedSalary</th>\n      <td>165034.0</td>\n      <td>1.125748e+05</td>\n      <td>50292.865585</td>\n      <td>11.58</td>\n      <td>74637.57</td>\n      <td>117948.0</td>\n      <td>1.551525e+05</td>\n      <td>199992.48</td>\n    </tr>\n    <tr>\n      <th>Exited</th>\n      <td>165034.0</td>\n      <td>2.115988e-01</td>\n      <td>0.408443</td>\n      <td>0.00</td>\n      <td>0.00</td>\n      <td>0.0</td>\n      <td>0.000000e+00</td>\n      <td>1.00</td>\n    </tr>\n    <tr>\n      <th>age_group</th>\n      <td>165034.0</td>\n      <td>1.896961e+00</td>\n      <td>0.818878</td>\n      <td>1.00</td>\n      <td>1.00</td>\n      <td>2.0</td>\n      <td>2.000000e+00</td>\n      <td>5.00</td>\n    </tr>\n  </tbody>\n</table>\n</div>"
     },
     "execution_count": 10,
     "metadata": {},
     "output_type": "execute_result"
    }
   ],
   "source": [
    "train.describe().T"
   ],
   "metadata": {
    "collapsed": false,
    "ExecuteTime": {
     "end_time": "2024-01-25T16:18:37.077973Z",
     "start_time": "2024-01-25T16:18:36.896502Z"
    }
   },
   "id": "6d6c6daf7994f496"
  },
  {
   "cell_type": "code",
   "execution_count": 11,
   "outputs": [
    {
     "data": {
      "text/plain": "<Axes: xlabel='Exited', ylabel='count'>"
     },
     "execution_count": 11,
     "metadata": {},
     "output_type": "execute_result"
    },
    {
     "data": {
      "text/plain": "<Figure size 640x480 with 1 Axes>",
      "image/png": "[encoded data removed]"
     },
     "metadata": {},
     "output_type": "display_data"
    }
   ],
   "source": [
    "sns.countplot(data=train,x=train.Exited)"
   ],
   "metadata": {
    "collapsed": false,
    "ExecuteTime": {
     "end_time": "2024-01-25T16:18:37.895440Z",
     "start_time": "2024-01-25T16:18:36.975133Z"
    }
   },
   "id": "6fd69faf45211c70"
  },
  {
   "cell_type": "code",
   "execution_count": 12,
   "outputs": [],
   "source": [
    "train_target = train.Exited\n",
    "train_df = train.drop([\"id\", \"CustomerId\", \"Exited\"], axis=1)\n",
    "X, y = train_df, train_target\n",
    "del train_df, train_target"
   ],
   "metadata": {
    "collapsed": false,
    "ExecuteTime": {
     "end_time": "2024-01-25T16:18:37.895675Z",
     "start_time": "2024-01-25T16:18:37.886873Z"
    }
   },
   "id": "98777be5c3271d62"
  },
  {
   "cell_type": "code",
   "execution_count": 13,
   "outputs": [
    {
     "name": "stdout",
     "output_type": "stream",
     "text": [
      "<class 'pandas.core.frame.DataFrame'>\n",
      "RangeIndex: 165034 entries, 0 to 165033\n",
      "Data columns (total 12 columns):\n",
      " #   Column           Non-Null Count   Dtype  \n",
      "---  ------           --------------   -----  \n",
      " 0   Surname          165034 non-null  object \n",
      " 1   CreditScore      165034 non-null  int64  \n",
      " 2   Geography        165034 non-null  object \n",
      " 3   Gender           165034 non-null  object \n",
      " 4   Age              165034 non-null  float64\n",
      " 5   Tenure           165034 non-null  int64  \n",
      " 6   Balance          165034 non-null  float64\n",
      " 7   NumOfProducts    165034 non-null  int64  \n",
      " 8   HasCrCard        165034 non-null  float64\n",
      " 9   IsActiveMember   165034 non-null  float64\n",
      " 10  EstimatedSalary  165034 non-null  float64\n",
      " 11  age_group        165034 non-null  int64  \n",
      "dtypes: float64(5), int64(4), object(3)\n",
      "memory usage: 15.1+ MB\n"
     ]
    }
   ],
   "source": [
    "X.info()"
   ],
   "metadata": {
    "collapsed": false,
    "ExecuteTime": {
     "end_time": "2024-01-25T16:18:37.962249Z",
     "start_time": "2024-01-25T16:18:37.912978Z"
    }
   },
   "id": "de1c6fb6886a6792"
  },
  {
   "cell_type": "code",
   "execution_count": 14,
   "outputs": [
    {
     "data": {
      "text/plain": "['Surname', 'Geography', 'Gender']"
     },
     "execution_count": 14,
     "metadata": {},
     "output_type": "execute_result"
    }
   ],
   "source": [
    "cate_features = list(X.select_dtypes(include=\"object\").columns)\n",
    "cate_features"
   ],
   "metadata": {
    "collapsed": false,
    "ExecuteTime": {
     "end_time": "2024-01-25T16:18:37.962522Z",
     "start_time": "2024-01-25T16:18:37.920667Z"
    }
   },
   "id": "43c0659ce753fb6b"
  },
  {
   "cell_type": "code",
   "execution_count": 15,
   "outputs": [
    {
     "data": {
      "text/plain": "{0: 0.6341948921322236, 1: 2.362962114486985}"
     },
     "execution_count": 15,
     "metadata": {},
     "output_type": "execute_result"
    }
   ],
   "source": [
    "classes = np.unique(y)\n",
    "weights = compute_class_weight(class_weight=\"balanced\", classes=classes, y=y)\n",
    "class_weights = dict(zip(classes, weights))\n",
    "class_weights"
   ],
   "metadata": {
    "collapsed": false,
    "ExecuteTime": {
     "end_time": "2024-01-25T16:18:37.979695Z",
     "start_time": "2024-01-25T16:18:37.929637Z"
    }
   },
   "id": "defefb8a03cf0683"
  },
  {
   "cell_type": "markdown",
   "source": [
    "# Modeling"
   ],
   "metadata": {
    "collapsed": false
   },
   "id": "4d1b21aaf0b6d4de"
  },
  {
   "cell_type": "code",
   "execution_count": 16,
   "outputs": [],
   "source": [
    "params = {\n",
    "    'iterations':8000,\n",
    "    'learning_rate':0.005,\n",
    "    'loss_function':'MultiClass',\n",
    "    'random_seed':42,\n",
    "    'l2_leaf_reg':1,\n",
    "    'max_ctr_complexity':15,\n",
    "    'max_depth':10,\n",
    "    \"grow_policy\":'Lossguide',\n",
    "    'max_leaves':64,\n",
    "    \"min_data_in_leaf\":40,\n",
    "}"
   ],
   "metadata": {
    "collapsed": false,
    "ExecuteTime": {
     "end_time": "2024-01-25T16:18:37.995223Z",
     "start_time": "2024-01-25T16:18:37.980065Z"
    }
   },
   "id": "97b2979c64142465"
  },
  {
   "cell_type": "code",
   "execution_count": 17,
   "outputs": [
    {
     "name": "stdout",
     "output_type": "stream",
     "text": [
      "0:\tlearn: 0.6910485\ttotal: 222ms\tremaining: 29m 32s\n",
      "1000:\tlearn: 0.4134046\ttotal: 1m 23s\tremaining: 9m 47s\n",
      "2000:\tlearn: 0.4050133\ttotal: 2m 30s\tremaining: 7m 32s\n",
      "3000:\tlearn: 0.3987946\ttotal: 3m 25s\tremaining: 5m 42s\n",
      "4000:\tlearn: 0.3924267\ttotal: 4m 14s\tremaining: 4m 14s\n",
      "5000:\tlearn: 0.3866436\ttotal: 5m 2s\tremaining: 3m 1s\n",
      "6000:\tlearn: 0.3813396\ttotal: 5m 50s\tremaining: 1m 56s\n",
      "7000:\tlearn: 0.3762263\ttotal: 6m 43s\tremaining: 57.5s\n",
      "7999:\tlearn: 0.3714622\ttotal: 7m 58s\tremaining: 0us\n"
     ]
    },
    {
     "data": {
      "text/plain": "<catboost.core.CatBoostClassifier at 0x12e057350>"
     },
     "execution_count": 17,
     "metadata": {},
     "output_type": "execute_result"
    }
   ],
   "source": [
    "model = CatBoostClassifier(**params, class_weights=class_weights)\n",
    "model.fit(X, y, cat_features = cate_features, verbose=1000)"
   ],
   "metadata": {
    "collapsed": false,
    "ExecuteTime": {
     "end_time": "2024-01-25T16:26:38.553069Z",
     "start_time": "2024-01-25T16:18:37.988436Z"
    }
   },
   "id": "a6aedd1a9e6e2c68"
  },
  {
   "cell_type": "code",
   "execution_count": 31,
   "outputs": [],
   "source": [
    "age_gap = [\n",
    "    0, 34, 42, 65, 70, 200\n",
    "]\n",
    "age_labels = [1, 2, 3, 4, 5]\n",
    "test[\"age_group\"] = pd.cut(test['Age'], bins=age_gap, labels=age_labels, right=True)\n",
    "test['age_group'] = pd.factorize(test['age_group'])[0] + 1"
   ],
   "metadata": {
    "collapsed": false,
    "ExecuteTime": {
     "end_time": "2024-01-25T16:39:55.032879Z",
     "start_time": "2024-01-25T16:39:55.024377Z"
    }
   },
   "id": "716c134adf04991"
  },
  {
   "cell_type": "code",
   "execution_count": 32,
   "outputs": [
    {
     "data": {
      "text/plain": "Index(['Surname', 'CreditScore', 'Geography', 'Gender', 'Age', 'Tenure',\n       'Balance', 'NumOfProducts', 'HasCrCard', 'IsActiveMember',\n       'EstimatedSalary', 'age_group'],\n      dtype='object')"
     },
     "execution_count": 32,
     "metadata": {},
     "output_type": "execute_result"
    }
   ],
   "source": [
    "X.columns"
   ],
   "metadata": {
    "collapsed": false,
    "ExecuteTime": {
     "end_time": "2024-01-25T16:39:56.930504Z",
     "start_time": "2024-01-25T16:39:56.926889Z"
    }
   },
   "id": "49e62f867fa1e5fa"
  },
  {
   "cell_type": "code",
   "execution_count": 36,
   "outputs": [
    {
     "data": {
      "text/plain": "Index(['Surname', 'CreditScore', 'Geography', 'Gender', 'Age', 'Tenure',\n       'Balance', 'NumOfProducts', 'HasCrCard', 'IsActiveMember',\n       'EstimatedSalary', 'age_group'],\n      dtype='object')"
     },
     "execution_count": 36,
     "metadata": {},
     "output_type": "execute_result"
    }
   ],
   "source": [
    "test_df.columns"
   ],
   "metadata": {
    "collapsed": false,
    "ExecuteTime": {
     "end_time": "2024-01-25T16:40:52.184873Z",
     "start_time": "2024-01-25T16:40:52.177562Z"
    }
   },
   "id": "332aa5e605d2c455"
  },
  {
   "cell_type": "code",
   "execution_count": 35,
   "outputs": [],
   "source": [
    "test_df = test.drop([\"id\", \"CustomerId\"], axis=1)"
   ],
   "metadata": {
    "collapsed": false,
    "ExecuteTime": {
     "end_time": "2024-01-25T16:40:49.514197Z",
     "start_time": "2024-01-25T16:40:49.482489Z"
    }
   },
   "id": "bd75a01200ee9ae2"
  },
  {
   "cell_type": "code",
   "execution_count": 38,
   "outputs": [],
   "source": [
    "submission = pd.DataFrame(\n",
    "    {\n",
    "        \"id\": test.id,\n",
    "        \"Exited\": model.predict_proba(test_df)[:, 1]\n",
    "    }\n",
    ")\n",
    "submission.to_csv(\"submission_v1.0.csv\", index=False)"
   ],
   "metadata": {
    "collapsed": false,
    "ExecuteTime": {
     "end_time": "2024-01-25T16:42:36.430216Z",
     "start_time": "2024-01-25T16:42:36.218883Z"
    }
   },
   "id": "ae105b83843908e7"
  }
 ],
 "metadata": {
  "kernelspec": {
   "display_name": "Python 3",
   "language": "python",
   "name": "python3"
  },
  "language_info": {
   "codemirror_mode": {
    "name": "ipython",
    "version": 2
   },
   "file_extension": ".py",
   "mimetype": "text/x-python",
   "name": "python",
   "nbconvert_exporter": "python",
   "pygments_lexer": "ipython2",
   "version": "2.7.6"
  }
 },
 "nbformat": 4,
 "nbformat_minor": 5
}
